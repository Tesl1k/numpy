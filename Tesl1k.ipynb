{
 "cells": [
  {
   "cell_type": "code",
   "execution_count": 1,
   "id": "481c2c23",
   "metadata": {},
   "outputs": [],
   "source": [
    "import numpy as np"
   ]
  },
  {
   "cell_type": "code",
   "execution_count": 2,
   "id": "dd08f658",
   "metadata": {},
   "outputs": [
    {
     "data": {
      "text/plain": [
       "array([0., 0., 0., 0., 0., 0., 0., 0., 0., 0.])"
      ]
     },
     "execution_count": 2,
     "metadata": {},
     "output_type": "execute_result"
    }
   ],
   "source": [
    "np.zeros(10)"
   ]
  },
  {
   "cell_type": "code",
   "execution_count": 3,
   "id": "48c96cab",
   "metadata": {},
   "outputs": [
    {
     "data": {
      "text/plain": [
       "array([1., 1., 1., 1., 1., 1., 1., 1., 1., 1.])"
      ]
     },
     "execution_count": 3,
     "metadata": {},
     "output_type": "execute_result"
    }
   ],
   "source": [
    "np.ones(10)"
   ]
  },
  {
   "cell_type": "code",
   "execution_count": 4,
   "id": "7ce4dd26",
   "metadata": {},
   "outputs": [
    {
     "data": {
      "text/plain": [
       "array([[0., 0., 0.],\n",
       "       [0., 0., 0.],\n",
       "       [0., 0., 0.]])"
      ]
     },
     "execution_count": 4,
     "metadata": {},
     "output_type": "execute_result"
    }
   ],
   "source": [
    "np.zeros([3, 3])"
   ]
  },
  {
   "cell_type": "code",
   "execution_count": 5,
   "id": "72099f27",
   "metadata": {},
   "outputs": [
    {
     "data": {
      "text/plain": [
       "array([[1., 1., 1., 1.],\n",
       "       [1., 1., 1., 1.],\n",
       "       [1., 1., 1., 1.],\n",
       "       [1., 1., 1., 1.]])"
      ]
     },
     "execution_count": 5,
     "metadata": {},
     "output_type": "execute_result"
    }
   ],
   "source": [
    "np.ones([4, 4])"
   ]
  },
  {
   "cell_type": "code",
   "execution_count": 6,
   "id": "7c1998e3",
   "metadata": {},
   "outputs": [
    {
     "data": {
      "text/plain": [
       "array([8.06623226e-308, 3.78285644e-307, 1.57030279e-312, 2.00269549e-307,\n",
       "       2.33645487e-307])"
      ]
     },
     "execution_count": 6,
     "metadata": {},
     "output_type": "execute_result"
    }
   ],
   "source": [
    "np.empty(5)"
   ]
  },
  {
   "cell_type": "code",
   "execution_count": 7,
   "id": "6ae86c91",
   "metadata": {},
   "outputs": [
    {
     "data": {
      "text/plain": [
       "array([[0., 0., 0.],\n",
       "       [0., 0., 0.],\n",
       "       [0., 0., 0.]])"
      ]
     },
     "execution_count": 7,
     "metadata": {},
     "output_type": "execute_result"
    }
   ],
   "source": [
    "np.empty([3, 3])"
   ]
  },
  {
   "cell_type": "code",
   "execution_count": 8,
   "id": "3580d82a",
   "metadata": {},
   "outputs": [
    {
     "data": {
      "text/plain": [
       "array([[1., 0., 0.],\n",
       "       [0., 1., 0.],\n",
       "       [0., 0., 1.]])"
      ]
     },
     "execution_count": 8,
     "metadata": {},
     "output_type": "execute_result"
    }
   ],
   "source": [
    "np.eye(3)"
   ]
  },
  {
   "cell_type": "code",
   "execution_count": 9,
   "id": "5ec38ff3",
   "metadata": {},
   "outputs": [],
   "source": [
    "a = np.array([10, 20,30,40])"
   ]
  },
  {
   "cell_type": "code",
   "execution_count": 10,
   "id": "42909aee",
   "metadata": {},
   "outputs": [
    {
     "data": {
      "text/plain": [
       "array([ 30,  60,  90, 120])"
      ]
     },
     "execution_count": 10,
     "metadata": {},
     "output_type": "execute_result"
    }
   ],
   "source": [
    "a*3"
   ]
  },
  {
   "cell_type": "code",
   "execution_count": 11,
   "id": "72dfff33",
   "metadata": {},
   "outputs": [
    {
     "data": {
      "text/plain": [
       "array([  10000,  160000,  810000, 2560000], dtype=int32)"
      ]
     },
     "execution_count": 11,
     "metadata": {},
     "output_type": "execute_result"
    }
   ],
   "source": [
    "a**4"
   ]
  },
  {
   "cell_type": "code",
   "execution_count": 12,
   "id": "a40cf331",
   "metadata": {},
   "outputs": [
    {
     "data": {
      "text/plain": [
       "array([  850,  7850, 26850, 63850], dtype=int32)"
      ]
     },
     "execution_count": 12,
     "metadata": {},
     "output_type": "execute_result"
    }
   ],
   "source": [
    "a**3-150"
   ]
  },
  {
   "cell_type": "code",
   "execution_count": 13,
   "id": "5fbd5d4b",
   "metadata": {},
   "outputs": [
    {
     "data": {
      "text/plain": [
       "array([   9900,  159600,  809100, 2558400], dtype=int32)"
      ]
     },
     "execution_count": 13,
     "metadata": {},
     "output_type": "execute_result"
    }
   ],
   "source": [
    "a**4-a**2"
   ]
  },
  {
   "cell_type": "code",
   "execution_count": 14,
   "id": "a80c0067",
   "metadata": {},
   "outputs": [
    {
     "data": {
      "text/plain": [
       "array([0.1       , 0.05      , 0.03333333, 0.025     ])"
      ]
     },
     "execution_count": 14,
     "metadata": {},
     "output_type": "execute_result"
    }
   ],
   "source": [
    "1/a"
   ]
  },
  {
   "cell_type": "code",
   "execution_count": 15,
   "id": "091ba714",
   "metadata": {},
   "outputs": [
    {
     "data": {
      "text/plain": [
       "array([ -9.5, -18. , -25.5, -32. ])"
      ]
     },
     "execution_count": 15,
     "metadata": {},
     "output_type": "execute_result"
    }
   ],
   "source": [
    "(a-200)*a/200"
   ]
  },
  {
   "cell_type": "code",
   "execution_count": 16,
   "id": "28647197",
   "metadata": {},
   "outputs": [
    {
     "data": {
      "text/plain": [
       "array([ 100,  400,  900, 1600])"
      ]
     },
     "execution_count": 16,
     "metadata": {},
     "output_type": "execute_result"
    }
   ],
   "source": [
    "a*a"
   ]
  },
  {
   "cell_type": "code",
   "execution_count": 17,
   "id": "ed3526a5",
   "metadata": {},
   "outputs": [
    {
     "data": {
      "text/plain": [
       "array([1., 1., 1., 1.])"
      ]
     },
     "execution_count": 17,
     "metadata": {},
     "output_type": "execute_result"
    }
   ],
   "source": [
    "a/a"
   ]
  },
  {
   "cell_type": "code",
   "execution_count": 18,
   "id": "71fc2818",
   "metadata": {},
   "outputs": [],
   "source": [
    "a = np.arange(10, 21, 2)"
   ]
  },
  {
   "cell_type": "code",
   "execution_count": 19,
   "id": "0cf80783",
   "metadata": {},
   "outputs": [
    {
     "data": {
      "text/plain": [
       "array([10, 12, 14, 16, 18, 20])"
      ]
     },
     "execution_count": 19,
     "metadata": {},
     "output_type": "execute_result"
    }
   ],
   "source": [
    "a"
   ]
  },
  {
   "cell_type": "code",
   "execution_count": 20,
   "id": "41705ab0",
   "metadata": {},
   "outputs": [
    {
     "data": {
      "text/plain": [
       "(6,)"
      ]
     },
     "execution_count": 20,
     "metadata": {},
     "output_type": "execute_result"
    }
   ],
   "source": [
    "a.shape"
   ]
  },
  {
   "cell_type": "code",
   "execution_count": 21,
   "id": "09be8783",
   "metadata": {},
   "outputs": [
    {
     "data": {
      "text/plain": [
       "array([[10, 12],\n",
       "       [14, 16],\n",
       "       [18, 20]])"
      ]
     },
     "execution_count": 21,
     "metadata": {},
     "output_type": "execute_result"
    }
   ],
   "source": [
    "a.reshape([3, 2])"
   ]
  },
  {
   "cell_type": "code",
   "execution_count": 22,
   "id": "cfcf0f08",
   "metadata": {},
   "outputs": [],
   "source": [
    "b = a.reshape([2, 3])"
   ]
  },
  {
   "cell_type": "code",
   "execution_count": 23,
   "id": "b8d445a6",
   "metadata": {},
   "outputs": [
    {
     "data": {
      "text/plain": [
       "array([[10, 12, 14],\n",
       "       [16, 18, 20]])"
      ]
     },
     "execution_count": 23,
     "metadata": {},
     "output_type": "execute_result"
    }
   ],
   "source": [
    "b"
   ]
  },
  {
   "cell_type": "code",
   "execution_count": 24,
   "id": "fefe4c4f",
   "metadata": {},
   "outputs": [
    {
     "data": {
      "text/plain": [
       "array([10, 12, 14, 16, 18, 20])"
      ]
     },
     "execution_count": 24,
     "metadata": {},
     "output_type": "execute_result"
    }
   ],
   "source": [
    "a"
   ]
  },
  {
   "cell_type": "code",
   "execution_count": 25,
   "id": "2efa7f7b",
   "metadata": {},
   "outputs": [
    {
     "data": {
      "text/plain": [
       "10"
      ]
     },
     "execution_count": 25,
     "metadata": {},
     "output_type": "execute_result"
    }
   ],
   "source": [
    "a[0]"
   ]
  },
  {
   "cell_type": "code",
   "execution_count": 26,
   "id": "26d97705",
   "metadata": {},
   "outputs": [
    {
     "data": {
      "text/plain": [
       "array([[10, 12, 14],\n",
       "       [16, 18, 20]])"
      ]
     },
     "execution_count": 26,
     "metadata": {},
     "output_type": "execute_result"
    }
   ],
   "source": [
    "b"
   ]
  },
  {
   "cell_type": "code",
   "execution_count": 27,
   "id": "5c3ecde8",
   "metadata": {},
   "outputs": [
    {
     "data": {
      "text/plain": [
       "array([10, 12, 14])"
      ]
     },
     "execution_count": 27,
     "metadata": {},
     "output_type": "execute_result"
    }
   ],
   "source": [
    "b[0]"
   ]
  },
  {
   "cell_type": "code",
   "execution_count": 28,
   "id": "a542308d",
   "metadata": {},
   "outputs": [
    {
     "data": {
      "text/plain": [
       "12"
      ]
     },
     "execution_count": 28,
     "metadata": {},
     "output_type": "execute_result"
    }
   ],
   "source": [
    "b[0][1]"
   ]
  },
  {
   "cell_type": "code",
   "execution_count": 29,
   "id": "d9b507bd",
   "metadata": {},
   "outputs": [
    {
     "data": {
      "text/plain": [
       "True"
      ]
     },
     "execution_count": 29,
     "metadata": {},
     "output_type": "execute_result"
    }
   ],
   "source": [
    "b[0][0] == a[0]"
   ]
  },
  {
   "cell_type": "code",
   "execution_count": 30,
   "id": "b5f3b9a4",
   "metadata": {},
   "outputs": [
    {
     "data": {
      "text/plain": [
       "False"
      ]
     },
     "execution_count": 30,
     "metadata": {},
     "output_type": "execute_result"
    }
   ],
   "source": [
    "b[0][0] == a[1]"
   ]
  },
  {
   "cell_type": "code",
   "execution_count": 31,
   "id": "cd786ecb",
   "metadata": {},
   "outputs": [],
   "source": [
    "a[0] = 1"
   ]
  },
  {
   "cell_type": "code",
   "execution_count": 32,
   "id": "4b9bddf4",
   "metadata": {},
   "outputs": [
    {
     "data": {
      "text/plain": [
       "array([ 1, 12, 14, 16, 18, 20])"
      ]
     },
     "execution_count": 32,
     "metadata": {},
     "output_type": "execute_result"
    }
   ],
   "source": [
    "a"
   ]
  },
  {
   "cell_type": "code",
   "execution_count": 33,
   "id": "39ba0edc",
   "metadata": {},
   "outputs": [],
   "source": [
    "c = b.copy()"
   ]
  },
  {
   "cell_type": "code",
   "execution_count": 34,
   "id": "801e38d9",
   "metadata": {},
   "outputs": [
    {
     "data": {
      "text/plain": [
       "array([[ 1, 12, 14],\n",
       "       [16, 18, 20]])"
      ]
     },
     "execution_count": 34,
     "metadata": {},
     "output_type": "execute_result"
    }
   ],
   "source": [
    "c"
   ]
  },
  {
   "cell_type": "code",
   "execution_count": 35,
   "id": "95ffde09",
   "metadata": {},
   "outputs": [
    {
     "data": {
      "text/plain": [
       "array([[ 1, 12, 14, 16, 18, 20]])"
      ]
     },
     "execution_count": 35,
     "metadata": {},
     "output_type": "execute_result"
    }
   ],
   "source": [
    "c.reshape([1, -1])"
   ]
  },
  {
   "cell_type": "code",
   "execution_count": 36,
   "id": "88496b67",
   "metadata": {},
   "outputs": [
    {
     "data": {
      "text/plain": [
       "array([[ 1, 12, 14],\n",
       "       [16, 18, 20]])"
      ]
     },
     "execution_count": 36,
     "metadata": {},
     "output_type": "execute_result"
    }
   ],
   "source": [
    "a.reshape([2, -1])"
   ]
  },
  {
   "cell_type": "code",
   "execution_count": 37,
   "id": "83358192",
   "metadata": {},
   "outputs": [],
   "source": [
    "a = np.arange(2, 20, 2)"
   ]
  },
  {
   "cell_type": "code",
   "execution_count": 38,
   "id": "0773f708",
   "metadata": {},
   "outputs": [
    {
     "data": {
      "text/plain": [
       "array([ 2,  4,  6,  8, 10, 12, 14, 16, 18])"
      ]
     },
     "execution_count": 38,
     "metadata": {},
     "output_type": "execute_result"
    }
   ],
   "source": [
    "a"
   ]
  },
  {
   "cell_type": "code",
   "execution_count": 39,
   "id": "34d0f80d",
   "metadata": {},
   "outputs": [
    {
     "data": {
      "text/plain": [
       "array([1.41421356, 2.        , 2.44948974, 2.82842712, 3.16227766,\n",
       "       3.46410162, 3.74165739, 4.        , 4.24264069])"
      ]
     },
     "execution_count": 39,
     "metadata": {},
     "output_type": "execute_result"
    }
   ],
   "source": [
    "np.sqrt(a)"
   ]
  },
  {
   "cell_type": "code",
   "execution_count": 40,
   "id": "9e4f3c65",
   "metadata": {},
   "outputs": [
    {
     "data": {
      "text/plain": [
       "array([1.41421356, 2.        ])"
      ]
     },
     "execution_count": 40,
     "metadata": {},
     "output_type": "execute_result"
    }
   ],
   "source": [
    "np.sqrt(a[:2])"
   ]
  },
  {
   "cell_type": "code",
   "execution_count": 41,
   "id": "089715ff",
   "metadata": {},
   "outputs": [
    {
     "data": {
      "text/plain": [
       "array([7.38905610e+00, 5.45981500e+01, 4.03428793e+02, 2.98095799e+03,\n",
       "       2.20264658e+04, 1.62754791e+05, 1.20260428e+06, 8.88611052e+06,\n",
       "       6.56599691e+07])"
      ]
     },
     "execution_count": 41,
     "metadata": {},
     "output_type": "execute_result"
    }
   ],
   "source": [
    "np.exp(a)"
   ]
  },
  {
   "cell_type": "code",
   "execution_count": 42,
   "id": "c980fe9d",
   "metadata": {},
   "outputs": [
    {
     "data": {
      "text/plain": [
       "array([ 403.42879349, 2980.95798704])"
      ]
     },
     "execution_count": 42,
     "metadata": {},
     "output_type": "execute_result"
    }
   ],
   "source": [
    "np.exp(a[2:4])"
   ]
  },
  {
   "cell_type": "code",
   "execution_count": 43,
   "id": "6f1fb4d6",
   "metadata": {},
   "outputs": [
    {
     "data": {
      "text/plain": [
       "array([16, 20])"
      ]
     },
     "execution_count": 43,
     "metadata": {},
     "output_type": "execute_result"
    }
   ],
   "source": [
    "np.add(a[2:4], a[4:6])"
   ]
  },
  {
   "cell_type": "code",
   "execution_count": 44,
   "id": "4e096d78",
   "metadata": {},
   "outputs": [
    {
     "data": {
      "text/plain": [
       "array([10, 12])"
      ]
     },
     "execution_count": 44,
     "metadata": {},
     "output_type": "execute_result"
    }
   ],
   "source": [
    "np.maximum(a[2:4], a[4:6])"
   ]
  },
  {
   "cell_type": "code",
   "execution_count": 45,
   "id": "aaed2963",
   "metadata": {},
   "outputs": [
    {
     "data": {
      "text/plain": [
       "array([6, 8])"
      ]
     },
     "execution_count": 45,
     "metadata": {},
     "output_type": "execute_result"
    }
   ],
   "source": [
    "np.minimum(a[2:4], a[4:6])"
   ]
  },
  {
   "cell_type": "code",
   "execution_count": 46,
   "id": "ef27eb04",
   "metadata": {},
   "outputs": [
    {
     "data": {
      "text/plain": [
       "array([[ 2,  4],\n",
       "       [ 6,  8],\n",
       "       [10, 12],\n",
       "       [14, 16]])"
      ]
     },
     "execution_count": 46,
     "metadata": {},
     "output_type": "execute_result"
    }
   ],
   "source": [
    "a[:-1].reshape((4,2))"
   ]
  },
  {
   "cell_type": "code",
   "execution_count": 47,
   "id": "b161e12e",
   "metadata": {},
   "outputs": [],
   "source": [
    "b = a[:-1].reshape((4,2))"
   ]
  },
  {
   "cell_type": "code",
   "execution_count": 48,
   "id": "18caae3f",
   "metadata": {},
   "outputs": [
    {
     "data": {
      "text/plain": [
       "array([[ 2,  4],\n",
       "       [ 6,  8],\n",
       "       [10, 12],\n",
       "       [14, 16]])"
      ]
     },
     "execution_count": 48,
     "metadata": {},
     "output_type": "execute_result"
    }
   ],
   "source": [
    "b"
   ]
  },
  {
   "cell_type": "code",
   "execution_count": 49,
   "id": "b33f33d5",
   "metadata": {},
   "outputs": [
    {
     "data": {
      "text/plain": [
       "array([[ 2,  6, 10, 14],\n",
       "       [ 4,  8, 12, 16]])"
      ]
     },
     "execution_count": 49,
     "metadata": {},
     "output_type": "execute_result"
    }
   ],
   "source": [
    "b.T"
   ]
  },
  {
   "cell_type": "code",
   "execution_count": 50,
   "id": "84a478dd",
   "metadata": {},
   "outputs": [],
   "source": [
    "import pandas as pd\n",
    "from pandas import Series, DataFrame"
   ]
  },
  {
   "cell_type": "code",
   "execution_count": 51,
   "id": "2fc5dda7",
   "metadata": {},
   "outputs": [
    {
     "name": "stdout",
     "output_type": "stream",
     "text": [
      "0     3\n",
      "1     6\n",
      "2     9\n",
      "3    12\n",
      "dtype: int64\n"
     ]
    }
   ],
   "source": [
    "obj = Series([3, 6, 9, 12])\n",
    "print(obj)"
   ]
  },
  {
   "cell_type": "code",
   "execution_count": 52,
   "id": "2250450e",
   "metadata": {},
   "outputs": [
    {
     "data": {
      "text/plain": [
       "array([ 3,  6,  9, 12], dtype=int64)"
      ]
     },
     "execution_count": 52,
     "metadata": {},
     "output_type": "execute_result"
    }
   ],
   "source": [
    "obj.values"
   ]
  },
  {
   "cell_type": "code",
   "execution_count": 53,
   "id": "95b5d3fe",
   "metadata": {},
   "outputs": [
    {
     "data": {
      "text/plain": [
       "RangeIndex(start=0, stop=4, step=1)"
      ]
     },
     "execution_count": 53,
     "metadata": {},
     "output_type": "execute_result"
    }
   ],
   "source": [
    "obj.index"
   ]
  },
  {
   "cell_type": "code",
   "execution_count": 54,
   "id": "4f49eb1b",
   "metadata": {},
   "outputs": [
    {
     "name": "stdout",
     "output_type": "stream",
     "text": [
      "First     870\n",
      "Second    430\n",
      "Third     300\n",
      "Fourth    210\n",
      "Fifth     400\n",
      "dtype: int64\n"
     ]
    }
   ],
   "source": [
    "obj2 = Series([870, 430, 300, 210, 400], index = ['First', 'Second', 'Third', 'Fourth', 'Fifth'])\n",
    "print(obj2)"
   ]
  },
  {
   "cell_type": "code",
   "execution_count": 55,
   "id": "c9735839",
   "metadata": {},
   "outputs": [
    {
     "data": {
      "text/plain": [
       "430"
      ]
     },
     "execution_count": 55,
     "metadata": {},
     "output_type": "execute_result"
    }
   ],
   "source": [
    "obj2['Second']"
   ]
  },
  {
   "cell_type": "code",
   "execution_count": 56,
   "id": "7ba98ee8",
   "metadata": {},
   "outputs": [
    {
     "data": {
      "text/plain": [
       "First     870\n",
       "Second    430\n",
       "dtype: int64"
      ]
     },
     "execution_count": 56,
     "metadata": {},
     "output_type": "execute_result"
    }
   ],
   "source": [
    "obj2[obj2 > 400]"
   ]
  },
  {
   "cell_type": "code",
   "execution_count": 57,
   "id": "649628fc",
   "metadata": {},
   "outputs": [
    {
     "data": {
      "text/plain": [
       "True"
      ]
     },
     "execution_count": 57,
     "metadata": {},
     "output_type": "execute_result"
    }
   ],
   "source": [
    "'Third' in obj2"
   ]
  },
  {
   "cell_type": "code",
   "execution_count": 58,
   "id": "e961ff56",
   "metadata": {},
   "outputs": [
    {
     "name": "stdout",
     "output_type": "stream",
     "text": [
      "{'First': 870, 'Second': 430, 'Third': 300, 'Fourth': 210, 'Fifth': 400}\n"
     ]
    }
   ],
   "source": [
    "obj2_dictionary = obj2.to_dict()\n",
    "print(obj2_dictionary)"
   ]
  },
  {
   "cell_type": "code",
   "execution_count": 59,
   "id": "903460c3",
   "metadata": {},
   "outputs": [
    {
     "name": "stdout",
     "output_type": "stream",
     "text": [
      "First     870\n",
      "Second    430\n",
      "Third     300\n",
      "Fourth    210\n",
      "Fifth     400\n",
      "dtype: int64\n"
     ]
    }
   ],
   "source": [
    "obj3 = Series(obj2_dictionary)\n",
    "print(obj3)"
   ]
  },
  {
   "cell_type": "code",
   "execution_count": 60,
   "id": "e6e0353e",
   "metadata": {},
   "outputs": [
    {
     "name": "stdout",
     "output_type": "stream",
     "text": [
      "1st   NaN\n",
      "2nd   NaN\n",
      "3rd   NaN\n",
      "4th   NaN\n",
      "5th   NaN\n",
      "dtype: float64\n"
     ]
    }
   ],
   "source": [
    "names = ['1st', '2nd', '3rd', '4th', '5th']\n",
    "obj4 = Series(obj2_dictionary, index = names)\n",
    "print(obj4)"
   ]
  },
  {
   "cell_type": "code",
   "execution_count": 61,
   "id": "ab97ffd9",
   "metadata": {},
   "outputs": [
    {
     "name": "stdout",
     "output_type": "stream",
     "text": [
      "First     870.0\n",
      "Second    430.0\n",
      "Third     300.0\n",
      "4th         NaN\n",
      "5th         NaN\n",
      "dtype: float64\n"
     ]
    }
   ],
   "source": [
    "names = ['First', 'Second', 'Third', '4th', '5th']\n",
    "obj4 = Series(obj2_dictionary, index = names)\n",
    "print(obj4)"
   ]
  },
  {
   "cell_type": "code",
   "execution_count": 62,
   "id": "58c1db0e",
   "metadata": {},
   "outputs": [
    {
     "data": {
      "text/plain": [
       "First     False\n",
       "Second    False\n",
       "Third     False\n",
       "Fourth    False\n",
       "Fifth     False\n",
       "dtype: bool"
      ]
     },
     "execution_count": 62,
     "metadata": {},
     "output_type": "execute_result"
    }
   ],
   "source": [
    "pd.isnull(obj2)"
   ]
  },
  {
   "cell_type": "code",
   "execution_count": 63,
   "id": "bc624069",
   "metadata": {},
   "outputs": [
    {
     "data": {
      "text/plain": [
       "First     False\n",
       "Second    False\n",
       "Third     False\n",
       "4th        True\n",
       "5th        True\n",
       "dtype: bool"
      ]
     },
     "execution_count": 63,
     "metadata": {},
     "output_type": "execute_result"
    }
   ],
   "source": [
    "pd.isnull(obj4)"
   ]
  },
  {
   "cell_type": "code",
   "execution_count": 64,
   "id": "81208534",
   "metadata": {},
   "outputs": [
    {
     "data": {
      "text/plain": [
       "First      True\n",
       "Second     True\n",
       "Third      True\n",
       "4th       False\n",
       "5th       False\n",
       "dtype: bool"
      ]
     },
     "execution_count": 64,
     "metadata": {},
     "output_type": "execute_result"
    }
   ],
   "source": [
    "pd.notnull(obj4)"
   ]
  },
  {
   "cell_type": "code",
   "execution_count": 65,
   "id": "7877453b",
   "metadata": {},
   "outputs": [
    {
     "data": {
      "text/plain": [
       "4th          NaN\n",
       "5th          NaN\n",
       "Fifth        NaN\n",
       "First     1740.0\n",
       "Fourth       NaN\n",
       "Second     860.0\n",
       "Third      600.0\n",
       "dtype: float64"
      ]
     },
     "execution_count": 65,
     "metadata": {},
     "output_type": "execute_result"
    }
   ],
   "source": [
    "obj2 + obj4"
   ]
  },
  {
   "cell_type": "code",
   "execution_count": 66,
   "id": "958d494e",
   "metadata": {},
   "outputs": [
    {
     "data": {
      "text/plain": [
       "array([[ 0.36127972, -0.50869239,  0.22931988, -0.35423711, -0.03165377],\n",
       "       [ 0.4549535 ,  0.00718501, -1.66403096,  0.46588591, -0.33747758],\n",
       "       [-0.04844321,  0.90816373,  1.13824025, -0.89820627,  0.20607139],\n",
       "       [ 1.69772606, -0.66831235,  1.85267862, -0.72457566,  0.90041276],\n",
       "       [-0.15231756,  0.0032258 ,  0.01283916,  1.32417713,  0.15827464]])"
      ]
     },
     "execution_count": 66,
     "metadata": {},
     "output_type": "execute_result"
    }
   ],
   "source": [
    "np.random.randn(25).reshape(5, 5)"
   ]
  },
  {
   "cell_type": "code",
   "execution_count": 67,
   "id": "3a17bd25",
   "metadata": {},
   "outputs": [],
   "source": [
    "df = DataFrame(np.random.randn(25).reshape(5, 5))"
   ]
  },
  {
   "cell_type": "code",
   "execution_count": 68,
   "id": "6e4bb10a",
   "metadata": {},
   "outputs": [
    {
     "data": {
      "text/html": [
       "<div>\n",
       "<style scoped>\n",
       "    .dataframe tbody tr th:only-of-type {\n",
       "        vertical-align: middle;\n",
       "    }\n",
       "\n",
       "    .dataframe tbody tr th {\n",
       "        vertical-align: top;\n",
       "    }\n",
       "\n",
       "    .dataframe thead th {\n",
       "        text-align: right;\n",
       "    }\n",
       "</style>\n",
       "<table border=\"1\" class=\"dataframe\">\n",
       "  <thead>\n",
       "    <tr style=\"text-align: right;\">\n",
       "      <th></th>\n",
       "      <th>0</th>\n",
       "      <th>1</th>\n",
       "      <th>2</th>\n",
       "      <th>3</th>\n",
       "      <th>4</th>\n",
       "    </tr>\n",
       "  </thead>\n",
       "  <tbody>\n",
       "    <tr>\n",
       "      <th>0</th>\n",
       "      <td>-1.647306</td>\n",
       "      <td>0.498182</td>\n",
       "      <td>0.112784</td>\n",
       "      <td>-0.417554</td>\n",
       "      <td>0.928506</td>\n",
       "    </tr>\n",
       "    <tr>\n",
       "      <th>1</th>\n",
       "      <td>-0.501666</td>\n",
       "      <td>0.741770</td>\n",
       "      <td>1.298444</td>\n",
       "      <td>0.742411</td>\n",
       "      <td>0.673464</td>\n",
       "    </tr>\n",
       "    <tr>\n",
       "      <th>2</th>\n",
       "      <td>-0.633511</td>\n",
       "      <td>-0.539750</td>\n",
       "      <td>1.638328</td>\n",
       "      <td>0.398488</td>\n",
       "      <td>-0.603943</td>\n",
       "    </tr>\n",
       "    <tr>\n",
       "      <th>3</th>\n",
       "      <td>1.578745</td>\n",
       "      <td>0.915967</td>\n",
       "      <td>-0.060907</td>\n",
       "      <td>-0.480464</td>\n",
       "      <td>-1.511469</td>\n",
       "    </tr>\n",
       "    <tr>\n",
       "      <th>4</th>\n",
       "      <td>-0.002121</td>\n",
       "      <td>-0.623012</td>\n",
       "      <td>0.351873</td>\n",
       "      <td>1.068700</td>\n",
       "      <td>0.369557</td>\n",
       "    </tr>\n",
       "  </tbody>\n",
       "</table>\n",
       "</div>"
      ],
      "text/plain": [
       "          0         1         2         3         4\n",
       "0 -1.647306  0.498182  0.112784 -0.417554  0.928506\n",
       "1 -0.501666  0.741770  1.298444  0.742411  0.673464\n",
       "2 -0.633511 -0.539750  1.638328  0.398488 -0.603943\n",
       "3  1.578745  0.915967 -0.060907 -0.480464 -1.511469\n",
       "4 -0.002121 -0.623012  0.351873  1.068700  0.369557"
      ]
     },
     "execution_count": 68,
     "metadata": {},
     "output_type": "execute_result"
    }
   ],
   "source": [
    "df.head()"
   ]
  },
  {
   "cell_type": "code",
   "execution_count": 69,
   "id": "11af2660",
   "metadata": {},
   "outputs": [
    {
     "data": {
      "text/html": [
       "<div>\n",
       "<style scoped>\n",
       "    .dataframe tbody tr th:only-of-type {\n",
       "        vertical-align: middle;\n",
       "    }\n",
       "\n",
       "    .dataframe tbody tr th {\n",
       "        vertical-align: top;\n",
       "    }\n",
       "\n",
       "    .dataframe thead th {\n",
       "        text-align: right;\n",
       "    }\n",
       "</style>\n",
       "<table border=\"1\" class=\"dataframe\">\n",
       "  <thead>\n",
       "    <tr style=\"text-align: right;\">\n",
       "      <th></th>\n",
       "      <th>0</th>\n",
       "      <th>1</th>\n",
       "      <th>2</th>\n",
       "      <th>3</th>\n",
       "      <th>4</th>\n",
       "    </tr>\n",
       "  </thead>\n",
       "  <tbody>\n",
       "    <tr>\n",
       "      <th>2</th>\n",
       "      <td>-0.633511</td>\n",
       "      <td>-0.539750</td>\n",
       "      <td>1.638328</td>\n",
       "      <td>0.398488</td>\n",
       "      <td>-0.603943</td>\n",
       "    </tr>\n",
       "    <tr>\n",
       "      <th>3</th>\n",
       "      <td>1.578745</td>\n",
       "      <td>0.915967</td>\n",
       "      <td>-0.060907</td>\n",
       "      <td>-0.480464</td>\n",
       "      <td>-1.511469</td>\n",
       "    </tr>\n",
       "    <tr>\n",
       "      <th>4</th>\n",
       "      <td>-0.002121</td>\n",
       "      <td>-0.623012</td>\n",
       "      <td>0.351873</td>\n",
       "      <td>1.068700</td>\n",
       "      <td>0.369557</td>\n",
       "    </tr>\n",
       "  </tbody>\n",
       "</table>\n",
       "</div>"
      ],
      "text/plain": [
       "          0         1         2         3         4\n",
       "2 -0.633511 -0.539750  1.638328  0.398488 -0.603943\n",
       "3  1.578745  0.915967 -0.060907 -0.480464 -1.511469\n",
       "4 -0.002121 -0.623012  0.351873  1.068700  0.369557"
      ]
     },
     "execution_count": 69,
     "metadata": {},
     "output_type": "execute_result"
    }
   ],
   "source": [
    "df.tail(3)"
   ]
  },
  {
   "cell_type": "code",
   "execution_count": 70,
   "id": "389c64bf",
   "metadata": {},
   "outputs": [
    {
     "data": {
      "text/html": [
       "<div>\n",
       "<style scoped>\n",
       "    .dataframe tbody tr th:only-of-type {\n",
       "        vertical-align: middle;\n",
       "    }\n",
       "\n",
       "    .dataframe tbody tr th {\n",
       "        vertical-align: top;\n",
       "    }\n",
       "\n",
       "    .dataframe thead th {\n",
       "        text-align: right;\n",
       "    }\n",
       "</style>\n",
       "<table border=\"1\" class=\"dataframe\">\n",
       "  <thead>\n",
       "    <tr style=\"text-align: right;\">\n",
       "      <th></th>\n",
       "      <th>0</th>\n",
       "      <th>1</th>\n",
       "      <th>2</th>\n",
       "      <th>3</th>\n",
       "      <th>4</th>\n",
       "    </tr>\n",
       "  </thead>\n",
       "  <tbody>\n",
       "    <tr>\n",
       "      <th>0</th>\n",
       "      <td>-1.647306</td>\n",
       "      <td>0.498182</td>\n",
       "      <td>0.112784</td>\n",
       "      <td>-0.417554</td>\n",
       "      <td>0.928506</td>\n",
       "    </tr>\n",
       "    <tr>\n",
       "      <th>1</th>\n",
       "      <td>-0.501666</td>\n",
       "      <td>0.741770</td>\n",
       "      <td>1.298444</td>\n",
       "      <td>0.742411</td>\n",
       "      <td>0.673464</td>\n",
       "    </tr>\n",
       "    <tr>\n",
       "      <th>2</th>\n",
       "      <td>-0.633511</td>\n",
       "      <td>-0.539750</td>\n",
       "      <td>1.638328</td>\n",
       "      <td>0.398488</td>\n",
       "      <td>-0.603943</td>\n",
       "    </tr>\n",
       "    <tr>\n",
       "      <th>3</th>\n",
       "      <td>1.578745</td>\n",
       "      <td>0.915967</td>\n",
       "      <td>-0.060907</td>\n",
       "      <td>-0.480464</td>\n",
       "      <td>-1.511469</td>\n",
       "    </tr>\n",
       "    <tr>\n",
       "      <th>4</th>\n",
       "      <td>-0.002121</td>\n",
       "      <td>-0.623012</td>\n",
       "      <td>0.351873</td>\n",
       "      <td>1.068700</td>\n",
       "      <td>0.369557</td>\n",
       "    </tr>\n",
       "  </tbody>\n",
       "</table>\n",
       "</div>"
      ],
      "text/plain": [
       "          0         1         2         3         4\n",
       "0 -1.647306  0.498182  0.112784 -0.417554  0.928506\n",
       "1 -0.501666  0.741770  1.298444  0.742411  0.673464\n",
       "2 -0.633511 -0.539750  1.638328  0.398488 -0.603943\n",
       "3  1.578745  0.915967 -0.060907 -0.480464 -1.511469\n",
       "4 -0.002121 -0.623012  0.351873  1.068700  0.369557"
      ]
     },
     "execution_count": 70,
     "metadata": {},
     "output_type": "execute_result"
    }
   ],
   "source": [
    "df.tail()"
   ]
  },
  {
   "cell_type": "code",
   "execution_count": 71,
   "id": "082b9215",
   "metadata": {},
   "outputs": [
    {
     "data": {
      "text/plain": [
       "RangeIndex(start=0, stop=5, step=1)"
      ]
     },
     "execution_count": 71,
     "metadata": {},
     "output_type": "execute_result"
    }
   ],
   "source": [
    "df.columns"
   ]
  },
  {
   "cell_type": "code",
   "execution_count": 72,
   "id": "70f6370d",
   "metadata": {},
   "outputs": [],
   "source": [
    "df.columns = ['First', 'Second', 'Third', 'Fourth', 'Fifth']"
   ]
  },
  {
   "cell_type": "code",
   "execution_count": 73,
   "id": "691c305e",
   "metadata": {},
   "outputs": [
    {
     "data": {
      "text/html": [
       "<div>\n",
       "<style scoped>\n",
       "    .dataframe tbody tr th:only-of-type {\n",
       "        vertical-align: middle;\n",
       "    }\n",
       "\n",
       "    .dataframe tbody tr th {\n",
       "        vertical-align: top;\n",
       "    }\n",
       "\n",
       "    .dataframe thead th {\n",
       "        text-align: right;\n",
       "    }\n",
       "</style>\n",
       "<table border=\"1\" class=\"dataframe\">\n",
       "  <thead>\n",
       "    <tr style=\"text-align: right;\">\n",
       "      <th></th>\n",
       "      <th>First</th>\n",
       "      <th>Second</th>\n",
       "      <th>Third</th>\n",
       "      <th>Fourth</th>\n",
       "      <th>Fifth</th>\n",
       "    </tr>\n",
       "  </thead>\n",
       "  <tbody>\n",
       "    <tr>\n",
       "      <th>0</th>\n",
       "      <td>-1.647306</td>\n",
       "      <td>0.498182</td>\n",
       "      <td>0.112784</td>\n",
       "      <td>-0.417554</td>\n",
       "      <td>0.928506</td>\n",
       "    </tr>\n",
       "    <tr>\n",
       "      <th>1</th>\n",
       "      <td>-0.501666</td>\n",
       "      <td>0.741770</td>\n",
       "      <td>1.298444</td>\n",
       "      <td>0.742411</td>\n",
       "      <td>0.673464</td>\n",
       "    </tr>\n",
       "    <tr>\n",
       "      <th>2</th>\n",
       "      <td>-0.633511</td>\n",
       "      <td>-0.539750</td>\n",
       "      <td>1.638328</td>\n",
       "      <td>0.398488</td>\n",
       "      <td>-0.603943</td>\n",
       "    </tr>\n",
       "    <tr>\n",
       "      <th>3</th>\n",
       "      <td>1.578745</td>\n",
       "      <td>0.915967</td>\n",
       "      <td>-0.060907</td>\n",
       "      <td>-0.480464</td>\n",
       "      <td>-1.511469</td>\n",
       "    </tr>\n",
       "    <tr>\n",
       "      <th>4</th>\n",
       "      <td>-0.002121</td>\n",
       "      <td>-0.623012</td>\n",
       "      <td>0.351873</td>\n",
       "      <td>1.068700</td>\n",
       "      <td>0.369557</td>\n",
       "    </tr>\n",
       "  </tbody>\n",
       "</table>\n",
       "</div>"
      ],
      "text/plain": [
       "      First    Second     Third    Fourth     Fifth\n",
       "0 -1.647306  0.498182  0.112784 -0.417554  0.928506\n",
       "1 -0.501666  0.741770  1.298444  0.742411  0.673464\n",
       "2 -0.633511 -0.539750  1.638328  0.398488 -0.603943\n",
       "3  1.578745  0.915967 -0.060907 -0.480464 -1.511469\n",
       "4 -0.002121 -0.623012  0.351873  1.068700  0.369557"
      ]
     },
     "execution_count": 73,
     "metadata": {},
     "output_type": "execute_result"
    }
   ],
   "source": [
    "df.head()"
   ]
  },
  {
   "cell_type": "code",
   "execution_count": 74,
   "id": "c2044a14",
   "metadata": {},
   "outputs": [],
   "source": [
    "df['New'] = 100"
   ]
  },
  {
   "cell_type": "code",
   "execution_count": 75,
   "id": "774bc602",
   "metadata": {},
   "outputs": [],
   "source": [
    "del df['New']"
   ]
  },
  {
   "cell_type": "code",
   "execution_count": 76,
   "id": "94c78731",
   "metadata": {},
   "outputs": [
    {
     "data": {
      "text/html": [
       "<div>\n",
       "<style scoped>\n",
       "    .dataframe tbody tr th:only-of-type {\n",
       "        vertical-align: middle;\n",
       "    }\n",
       "\n",
       "    .dataframe tbody tr th {\n",
       "        vertical-align: top;\n",
       "    }\n",
       "\n",
       "    .dataframe thead th {\n",
       "        text-align: right;\n",
       "    }\n",
       "</style>\n",
       "<table border=\"1\" class=\"dataframe\">\n",
       "  <thead>\n",
       "    <tr style=\"text-align: right;\">\n",
       "      <th></th>\n",
       "      <th>First</th>\n",
       "      <th>Second</th>\n",
       "      <th>Third</th>\n",
       "      <th>Fourth</th>\n",
       "      <th>Fifth</th>\n",
       "    </tr>\n",
       "  </thead>\n",
       "  <tbody>\n",
       "    <tr>\n",
       "      <th>0</th>\n",
       "      <td>-1.647306</td>\n",
       "      <td>0.498182</td>\n",
       "      <td>0.112784</td>\n",
       "      <td>-0.417554</td>\n",
       "      <td>0.928506</td>\n",
       "    </tr>\n",
       "    <tr>\n",
       "      <th>1</th>\n",
       "      <td>-0.501666</td>\n",
       "      <td>0.741770</td>\n",
       "      <td>1.298444</td>\n",
       "      <td>0.742411</td>\n",
       "      <td>0.673464</td>\n",
       "    </tr>\n",
       "    <tr>\n",
       "      <th>2</th>\n",
       "      <td>-0.633511</td>\n",
       "      <td>-0.539750</td>\n",
       "      <td>1.638328</td>\n",
       "      <td>0.398488</td>\n",
       "      <td>-0.603943</td>\n",
       "    </tr>\n",
       "    <tr>\n",
       "      <th>3</th>\n",
       "      <td>1.578745</td>\n",
       "      <td>0.915967</td>\n",
       "      <td>-0.060907</td>\n",
       "      <td>-0.480464</td>\n",
       "      <td>-1.511469</td>\n",
       "    </tr>\n",
       "    <tr>\n",
       "      <th>4</th>\n",
       "      <td>-0.002121</td>\n",
       "      <td>-0.623012</td>\n",
       "      <td>0.351873</td>\n",
       "      <td>1.068700</td>\n",
       "      <td>0.369557</td>\n",
       "    </tr>\n",
       "  </tbody>\n",
       "</table>\n",
       "</div>"
      ],
      "text/plain": [
       "      First    Second     Third    Fourth     Fifth\n",
       "0 -1.647306  0.498182  0.112784 -0.417554  0.928506\n",
       "1 -0.501666  0.741770  1.298444  0.742411  0.673464\n",
       "2 -0.633511 -0.539750  1.638328  0.398488 -0.603943\n",
       "3  1.578745  0.915967 -0.060907 -0.480464 -1.511469\n",
       "4 -0.002121 -0.623012  0.351873  1.068700  0.369557"
      ]
     },
     "execution_count": 76,
     "metadata": {},
     "output_type": "execute_result"
    }
   ],
   "source": [
    "df.head()"
   ]
  },
  {
   "cell_type": "code",
   "execution_count": 77,
   "id": "013d5df7",
   "metadata": {},
   "outputs": [
    {
     "data": {
      "text/html": [
       "<div>\n",
       "<style scoped>\n",
       "    .dataframe tbody tr th:only-of-type {\n",
       "        vertical-align: middle;\n",
       "    }\n",
       "\n",
       "    .dataframe tbody tr th {\n",
       "        vertical-align: top;\n",
       "    }\n",
       "\n",
       "    .dataframe thead th {\n",
       "        text-align: right;\n",
       "    }\n",
       "</style>\n",
       "<table border=\"1\" class=\"dataframe\">\n",
       "  <thead>\n",
       "    <tr style=\"text-align: right;\">\n",
       "      <th></th>\n",
       "      <th>First</th>\n",
       "      <th>Second</th>\n",
       "      <th>Third</th>\n",
       "      <th>Fourth</th>\n",
       "      <th>Fifth</th>\n",
       "    </tr>\n",
       "  </thead>\n",
       "  <tbody>\n",
       "    <tr>\n",
       "      <th>1</th>\n",
       "      <td>NaN</td>\n",
       "      <td>NaN</td>\n",
       "      <td>NaN</td>\n",
       "      <td>NaN</td>\n",
       "      <td>NaN</td>\n",
       "    </tr>\n",
       "    <tr>\n",
       "      <th>2</th>\n",
       "      <td>NaN</td>\n",
       "      <td>NaN</td>\n",
       "      <td>NaN</td>\n",
       "      <td>NaN</td>\n",
       "      <td>NaN</td>\n",
       "    </tr>\n",
       "    <tr>\n",
       "      <th>3</th>\n",
       "      <td>NaN</td>\n",
       "      <td>NaN</td>\n",
       "      <td>NaN</td>\n",
       "      <td>NaN</td>\n",
       "      <td>NaN</td>\n",
       "    </tr>\n",
       "    <tr>\n",
       "      <th>4</th>\n",
       "      <td>NaN</td>\n",
       "      <td>NaN</td>\n",
       "      <td>NaN</td>\n",
       "      <td>NaN</td>\n",
       "      <td>NaN</td>\n",
       "    </tr>\n",
       "    <tr>\n",
       "      <th>5</th>\n",
       "      <td>NaN</td>\n",
       "      <td>NaN</td>\n",
       "      <td>NaN</td>\n",
       "      <td>NaN</td>\n",
       "      <td>NaN</td>\n",
       "    </tr>\n",
       "  </tbody>\n",
       "</table>\n",
       "</div>"
      ],
      "text/plain": [
       "   First  Second  Third  Fourth  Fifth\n",
       "1    NaN     NaN    NaN     NaN    NaN\n",
       "2    NaN     NaN    NaN     NaN    NaN\n",
       "3    NaN     NaN    NaN     NaN    NaN\n",
       "4    NaN     NaN    NaN     NaN    NaN\n",
       "5    NaN     NaN    NaN     NaN    NaN"
      ]
     },
     "execution_count": 77,
     "metadata": {},
     "output_type": "execute_result"
    }
   ],
   "source": [
    "df.reindex(['1', '2', '3', '4', '5'])"
   ]
  },
  {
   "cell_type": "code",
   "execution_count": 78,
   "id": "bfafb8c3",
   "metadata": {},
   "outputs": [
    {
     "data": {
      "text/html": [
       "<div>\n",
       "<style scoped>\n",
       "    .dataframe tbody tr th:only-of-type {\n",
       "        vertical-align: middle;\n",
       "    }\n",
       "\n",
       "    .dataframe tbody tr th {\n",
       "        vertical-align: top;\n",
       "    }\n",
       "\n",
       "    .dataframe thead th {\n",
       "        text-align: right;\n",
       "    }\n",
       "</style>\n",
       "<table border=\"1\" class=\"dataframe\">\n",
       "  <thead>\n",
       "    <tr style=\"text-align: right;\">\n",
       "      <th></th>\n",
       "      <th>First</th>\n",
       "      <th>Second</th>\n",
       "      <th>Third</th>\n",
       "      <th>Fourth</th>\n",
       "      <th>Fifth</th>\n",
       "    </tr>\n",
       "  </thead>\n",
       "  <tbody>\n",
       "    <tr>\n",
       "      <th>1</th>\n",
       "      <td>-0.501666</td>\n",
       "      <td>0.74177</td>\n",
       "      <td>1.298444</td>\n",
       "      <td>0.742411</td>\n",
       "      <td>0.673464</td>\n",
       "    </tr>\n",
       "    <tr>\n",
       "      <th>2</th>\n",
       "      <td>-0.633511</td>\n",
       "      <td>-0.53975</td>\n",
       "      <td>1.638328</td>\n",
       "      <td>0.398488</td>\n",
       "      <td>-0.603943</td>\n",
       "    </tr>\n",
       "    <tr>\n",
       "      <th>3</th>\n",
       "      <td>NaN</td>\n",
       "      <td>NaN</td>\n",
       "      <td>NaN</td>\n",
       "      <td>NaN</td>\n",
       "      <td>NaN</td>\n",
       "    </tr>\n",
       "    <tr>\n",
       "      <th>4</th>\n",
       "      <td>NaN</td>\n",
       "      <td>NaN</td>\n",
       "      <td>NaN</td>\n",
       "      <td>NaN</td>\n",
       "      <td>NaN</td>\n",
       "    </tr>\n",
       "    <tr>\n",
       "      <th>5</th>\n",
       "      <td>NaN</td>\n",
       "      <td>NaN</td>\n",
       "      <td>NaN</td>\n",
       "      <td>NaN</td>\n",
       "      <td>NaN</td>\n",
       "    </tr>\n",
       "  </tbody>\n",
       "</table>\n",
       "</div>"
      ],
      "text/plain": [
       "      First   Second     Third    Fourth     Fifth\n",
       "1 -0.501666  0.74177  1.298444  0.742411  0.673464\n",
       "2 -0.633511 -0.53975  1.638328  0.398488 -0.603943\n",
       "3       NaN      NaN       NaN       NaN       NaN\n",
       "4       NaN      NaN       NaN       NaN       NaN\n",
       "5       NaN      NaN       NaN       NaN       NaN"
      ]
     },
     "execution_count": 78,
     "metadata": {},
     "output_type": "execute_result"
    }
   ],
   "source": [
    "df.reindex([1, 2, '3', '4', '5'])"
   ]
  },
  {
   "cell_type": "code",
   "execution_count": 79,
   "id": "1225ac7c",
   "metadata": {},
   "outputs": [
    {
     "data": {
      "text/html": [
       "<div>\n",
       "<style scoped>\n",
       "    .dataframe tbody tr th:only-of-type {\n",
       "        vertical-align: middle;\n",
       "    }\n",
       "\n",
       "    .dataframe tbody tr th {\n",
       "        vertical-align: top;\n",
       "    }\n",
       "\n",
       "    .dataframe thead th {\n",
       "        text-align: right;\n",
       "    }\n",
       "</style>\n",
       "<table border=\"1\" class=\"dataframe\">\n",
       "  <thead>\n",
       "    <tr style=\"text-align: right;\">\n",
       "      <th></th>\n",
       "      <th>First</th>\n",
       "      <th>Second</th>\n",
       "      <th>Third</th>\n",
       "      <th>Fourth</th>\n",
       "      <th>Fifth</th>\n",
       "    </tr>\n",
       "  </thead>\n",
       "  <tbody>\n",
       "    <tr>\n",
       "      <th>0</th>\n",
       "      <td>-1.647306</td>\n",
       "      <td>0.498182</td>\n",
       "      <td>0.112784</td>\n",
       "      <td>-0.417554</td>\n",
       "      <td>0.928506</td>\n",
       "    </tr>\n",
       "    <tr>\n",
       "      <th>1</th>\n",
       "      <td>-0.501666</td>\n",
       "      <td>0.741770</td>\n",
       "      <td>1.298444</td>\n",
       "      <td>0.742411</td>\n",
       "      <td>0.673464</td>\n",
       "    </tr>\n",
       "    <tr>\n",
       "      <th>2</th>\n",
       "      <td>-0.633511</td>\n",
       "      <td>-0.539750</td>\n",
       "      <td>1.638328</td>\n",
       "      <td>0.398488</td>\n",
       "      <td>-0.603943</td>\n",
       "    </tr>\n",
       "    <tr>\n",
       "      <th>3</th>\n",
       "      <td>1.578745</td>\n",
       "      <td>0.915967</td>\n",
       "      <td>-0.060907</td>\n",
       "      <td>-0.480464</td>\n",
       "      <td>-1.511469</td>\n",
       "    </tr>\n",
       "    <tr>\n",
       "      <th>4</th>\n",
       "      <td>-0.002121</td>\n",
       "      <td>-0.623012</td>\n",
       "      <td>0.351873</td>\n",
       "      <td>1.068700</td>\n",
       "      <td>0.369557</td>\n",
       "    </tr>\n",
       "  </tbody>\n",
       "</table>\n",
       "</div>"
      ],
      "text/plain": [
       "      First    Second     Third    Fourth     Fifth\n",
       "0 -1.647306  0.498182  0.112784 -0.417554  0.928506\n",
       "1 -0.501666  0.741770  1.298444  0.742411  0.673464\n",
       "2 -0.633511 -0.539750  1.638328  0.398488 -0.603943\n",
       "3  1.578745  0.915967 -0.060907 -0.480464 -1.511469\n",
       "4 -0.002121 -0.623012  0.351873  1.068700  0.369557"
      ]
     },
     "execution_count": 79,
     "metadata": {},
     "output_type": "execute_result"
    }
   ],
   "source": [
    "df.reindex([0, 1, 2, 3, 4])"
   ]
  },
  {
   "cell_type": "code",
   "execution_count": 80,
   "id": "bc078d6a",
   "metadata": {},
   "outputs": [],
   "source": [
    "import numpy as np\n",
    "import matplotlib.pyplot as plt\n",
    "%matplotlib inline"
   ]
  },
  {
   "cell_type": "code",
   "execution_count": 81,
   "id": "84351819",
   "metadata": {},
   "outputs": [
    {
     "name": "stdout",
     "output_type": "stream",
     "text": [
      "[44396.30232227 24536.52050588 28424.72274203 28958.50412675\n",
      " 28251.34872283 40405.97182217 21121.82097116 23945.97729593\n",
      " 39038.43929055 27021.50462298]\n"
     ]
    }
   ],
   "source": [
    "incomes = np.random.normal(27000, 15000, 10000)\n",
    "print(incomes[:10])"
   ]
  },
  {
   "cell_type": "code",
   "execution_count": 82,
   "id": "1866d14f",
   "metadata": {},
   "outputs": [
    {
     "name": "stdout",
     "output_type": "stream",
     "text": [
      "[1.27123545e+04 2.83051481e+04 4.19930431e+04 1.00000000e+09\n",
      " 1.20000000e+10]\n"
     ]
    }
   ],
   "source": [
    "incomes_1 = np.append(incomes, [1000000000, 12000000000])\n",
    "print(incomes_1[-5:])"
   ]
  },
  {
   "cell_type": "code",
   "execution_count": 83,
   "id": "12026f0e",
   "metadata": {},
   "outputs": [
    {
     "data": {
      "image/png": "[encoded data removed]",
      "text/plain": [
       "<Figure size 432x288 with 1 Axes>"
      ]
     },
     "metadata": {
      "needs_background": "light"
     },
     "output_type": "display_data"
    }
   ],
   "source": [
    "plt.hist(incomes, 50)\n",
    "plt.show()"
   ]
  },
  {
   "cell_type": "code",
   "execution_count": 84,
   "id": "6df60fcd",
   "metadata": {},
   "outputs": [],
   "source": [
    "from scipy import stats"
   ]
  },
  {
   "cell_type": "code",
   "execution_count": 88,
   "id": "1a7efbd2",
   "metadata": {},
   "outputs": [],
   "source": [
    "incomes = np.random.normal(25000, 14000, 9000)"
   ]
  },
  {
   "cell_type": "code",
   "execution_count": 89,
   "id": "d3497633",
   "metadata": {},
   "outputs": [],
   "source": [
    "incomes_1 = np.append(incomes, [100000000, 120000000])"
   ]
  },
  {
   "cell_type": "code",
   "execution_count": 90,
   "id": "e3ec3ac4",
   "metadata": {},
   "outputs": [
    {
     "name": "stdout",
     "output_type": "stream",
     "text": [
      "24883.279641693407\n",
      "49316.76480507006\n"
     ]
    }
   ],
   "source": [
    "print(np.mean(incomes))\n",
    "print(np.mean(incomes_1))"
   ]
  },
  {
   "cell_type": "code",
   "execution_count": 91,
   "id": "7ce86d04",
   "metadata": {},
   "outputs": [
    {
     "name": "stdout",
     "output_type": "stream",
     "text": [
      "24857.8629117951\n",
      "24860.69659920252\n"
     ]
    }
   ],
   "source": [
    "print(np.median(incomes))\n",
    "print(np.median(incomes_1))"
   ]
  },
  {
   "cell_type": "code",
   "execution_count": 92,
   "id": "a8af3254",
   "metadata": {},
   "outputs": [
    {
     "name": "stdout",
     "output_type": "stream",
     "text": [
      "ModeResult(mode=array([-25620.33007956]), count=array([1]))\n",
      "ModeResult(mode=array([-25620.33007956]), count=array([1]))\n"
     ]
    }
   ],
   "source": [
    "print(stats.mode(incomes))\n",
    "print(stats.mode(incomes_1))"
   ]
  },
  {
   "cell_type": "code",
   "execution_count": null,
   "id": "352b97bd",
   "metadata": {},
   "outputs": [],
   "source": []
  }
 ],
 "metadata": {
  "kernelspec": {
   "display_name": "Python 3 (ipykernel)",
   "language": "python",
   "name": "python3"
  },
  "language_info": {
   "codemirror_mode": {
    "name": "ipython",
    "version": 3
   },
   "file_extension": ".py",
   "mimetype": "text/x-python",
   "name": "python",
   "nbconvert_exporter": "python",
   "pygments_lexer": "ipython3",
   "version": "3.9.7"
  }
 },
 "nbformat": 4,
 "nbformat_minor": 5
}
